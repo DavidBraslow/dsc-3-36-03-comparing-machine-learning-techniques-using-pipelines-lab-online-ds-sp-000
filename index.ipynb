{
 "cells": [
  {
   "cell_type": "markdown",
   "metadata": {},
   "source": [
    "# Comparing Machine Learning Techniques Using Pipelines - Lab"
   ]
  },
  {
   "cell_type": "markdown",
   "metadata": {},
   "source": [
    "## Introduction"
   ]
  },
  {
   "cell_type": "markdown",
   "metadata": {},
   "source": [
    "In this lab, you'lll use a Dataset created by Otto group, which was also used in a [Kaggle competition](https://www.kaggle.com/c/otto-group-product-classification-challenge/data).\n",
    "\n",
    "The description of the data set is as follows:\n",
    "\n",
    "The Otto Group is one of the world’s biggest e-commerce companies, with subsidiaries in more than 20 countries, including Crate & Barrel (USA), Otto.de (Germany) and 3 Suisses (France). They are selling millions of products worldwide every day, with several thousand products being added to our product line.\n",
    "\n",
    "A consistent analysis of the performance of our products is crucial. However, due to their global infrastructure, many identical products get classified differently. Therefore, the quality of our product analysis depends heavily on the ability to accurately cluster similar products. The better the classification, the more insights Otto Group can generate about their product range.\n",
    "\n",
    "In this lab, you'll use a data set containing:\n",
    "- A column `id`, which is an anonymous id unique to a product\n",
    "- 93 columns `feat_1`, `feat_2`, ..., `feat_93`, which are the various features of a product\n",
    "- a column `target` - the class of a product\n"
   ]
  },
  {
   "cell_type": "markdown",
   "metadata": {},
   "source": [
    "## Objectives\n",
    "\n",
    "You will be able to:\n",
    "- Compare different classification techniques\n",
    "- Construct pipelines in scikit-learn\n",
    "- Use pipelines in combination with GridSearchCV"
   ]
  },
  {
   "cell_type": "markdown",
   "metadata": {},
   "source": [
    "## The Data Science Workflow"
   ]
  },
  {
   "cell_type": "markdown",
   "metadata": {},
   "source": [
    "You will be following the data science workflow:\n",
    "\n",
    "1. Initial data inspection, exploratory data analysis, and cleaning\n",
    "2. Feature engineering and selection\n",
    "3. create a baseline model\n",
    "4. create a machine learning pipeline and compare results with the baseline model\n",
    "5. Interpret the model and draw conclusions"
   ]
  },
  {
   "cell_type": "markdown",
   "metadata": {},
   "source": [
    "##  Initial data inspection, exploratory data analysis, and cleaning"
   ]
  },
  {
   "cell_type": "markdown",
   "metadata": {},
   "source": [
    "The data is stored in \"otto_group.csv\".\n",
    "\n",
    "Things to do here:\n",
    "- Check for NAs\n",
    "- Check the distributions\n",
    "- Check how many inputs there are\n",
    "- ..."
   ]
  },
  {
   "cell_type": "code",
   "execution_count": 1,
   "metadata": {},
   "outputs": [],
   "source": [
    "# Your code here\n",
    "import pandas as pd\n",
    "import numpy as np\n",
    "import matplotlib.pyplot as plt\n",
    "%matplotlib inline\n",
    "\n",
    "np.random.seed(0)"
   ]
  },
  {
   "cell_type": "code",
   "execution_count": 2,
   "metadata": {},
   "outputs": [
    {
     "data": {
      "text/html": [
       "<div>\n",
       "<style scoped>\n",
       "    .dataframe tbody tr th:only-of-type {\n",
       "        vertical-align: middle;\n",
       "    }\n",
       "\n",
       "    .dataframe tbody tr th {\n",
       "        vertical-align: top;\n",
       "    }\n",
       "\n",
       "    .dataframe thead th {\n",
       "        text-align: right;\n",
       "    }\n",
       "</style>\n",
       "<table border=\"1\" class=\"dataframe\">\n",
       "  <thead>\n",
       "    <tr style=\"text-align: right;\">\n",
       "      <th></th>\n",
       "      <th>feat_1</th>\n",
       "      <th>feat_2</th>\n",
       "      <th>feat_3</th>\n",
       "      <th>feat_4</th>\n",
       "      <th>feat_5</th>\n",
       "      <th>feat_6</th>\n",
       "      <th>feat_7</th>\n",
       "      <th>feat_8</th>\n",
       "      <th>feat_9</th>\n",
       "      <th>feat_10</th>\n",
       "      <th>...</th>\n",
       "      <th>feat_85</th>\n",
       "      <th>feat_86</th>\n",
       "      <th>feat_87</th>\n",
       "      <th>feat_88</th>\n",
       "      <th>feat_89</th>\n",
       "      <th>feat_90</th>\n",
       "      <th>feat_91</th>\n",
       "      <th>feat_92</th>\n",
       "      <th>feat_93</th>\n",
       "      <th>target</th>\n",
       "    </tr>\n",
       "    <tr>\n",
       "      <th>id</th>\n",
       "      <th></th>\n",
       "      <th></th>\n",
       "      <th></th>\n",
       "      <th></th>\n",
       "      <th></th>\n",
       "      <th></th>\n",
       "      <th></th>\n",
       "      <th></th>\n",
       "      <th></th>\n",
       "      <th></th>\n",
       "      <th></th>\n",
       "      <th></th>\n",
       "      <th></th>\n",
       "      <th></th>\n",
       "      <th></th>\n",
       "      <th></th>\n",
       "      <th></th>\n",
       "      <th></th>\n",
       "      <th></th>\n",
       "      <th></th>\n",
       "      <th></th>\n",
       "    </tr>\n",
       "  </thead>\n",
       "  <tbody>\n",
       "    <tr>\n",
       "      <th>1</th>\n",
       "      <td>1</td>\n",
       "      <td>0</td>\n",
       "      <td>0</td>\n",
       "      <td>0</td>\n",
       "      <td>0</td>\n",
       "      <td>0</td>\n",
       "      <td>0</td>\n",
       "      <td>0</td>\n",
       "      <td>0</td>\n",
       "      <td>0</td>\n",
       "      <td>...</td>\n",
       "      <td>1</td>\n",
       "      <td>0</td>\n",
       "      <td>0</td>\n",
       "      <td>0</td>\n",
       "      <td>0</td>\n",
       "      <td>0</td>\n",
       "      <td>0</td>\n",
       "      <td>0</td>\n",
       "      <td>0</td>\n",
       "      <td>Class_1</td>\n",
       "    </tr>\n",
       "    <tr>\n",
       "      <th>2</th>\n",
       "      <td>0</td>\n",
       "      <td>0</td>\n",
       "      <td>0</td>\n",
       "      <td>0</td>\n",
       "      <td>0</td>\n",
       "      <td>0</td>\n",
       "      <td>0</td>\n",
       "      <td>1</td>\n",
       "      <td>0</td>\n",
       "      <td>0</td>\n",
       "      <td>...</td>\n",
       "      <td>0</td>\n",
       "      <td>0</td>\n",
       "      <td>0</td>\n",
       "      <td>0</td>\n",
       "      <td>0</td>\n",
       "      <td>0</td>\n",
       "      <td>0</td>\n",
       "      <td>0</td>\n",
       "      <td>0</td>\n",
       "      <td>Class_1</td>\n",
       "    </tr>\n",
       "    <tr>\n",
       "      <th>3</th>\n",
       "      <td>0</td>\n",
       "      <td>0</td>\n",
       "      <td>0</td>\n",
       "      <td>0</td>\n",
       "      <td>0</td>\n",
       "      <td>0</td>\n",
       "      <td>0</td>\n",
       "      <td>1</td>\n",
       "      <td>0</td>\n",
       "      <td>0</td>\n",
       "      <td>...</td>\n",
       "      <td>0</td>\n",
       "      <td>0</td>\n",
       "      <td>0</td>\n",
       "      <td>0</td>\n",
       "      <td>0</td>\n",
       "      <td>0</td>\n",
       "      <td>0</td>\n",
       "      <td>0</td>\n",
       "      <td>0</td>\n",
       "      <td>Class_1</td>\n",
       "    </tr>\n",
       "    <tr>\n",
       "      <th>4</th>\n",
       "      <td>1</td>\n",
       "      <td>0</td>\n",
       "      <td>0</td>\n",
       "      <td>1</td>\n",
       "      <td>6</td>\n",
       "      <td>1</td>\n",
       "      <td>5</td>\n",
       "      <td>0</td>\n",
       "      <td>0</td>\n",
       "      <td>1</td>\n",
       "      <td>...</td>\n",
       "      <td>0</td>\n",
       "      <td>1</td>\n",
       "      <td>2</td>\n",
       "      <td>0</td>\n",
       "      <td>0</td>\n",
       "      <td>0</td>\n",
       "      <td>0</td>\n",
       "      <td>0</td>\n",
       "      <td>0</td>\n",
       "      <td>Class_1</td>\n",
       "    </tr>\n",
       "    <tr>\n",
       "      <th>5</th>\n",
       "      <td>0</td>\n",
       "      <td>0</td>\n",
       "      <td>0</td>\n",
       "      <td>0</td>\n",
       "      <td>0</td>\n",
       "      <td>0</td>\n",
       "      <td>0</td>\n",
       "      <td>0</td>\n",
       "      <td>0</td>\n",
       "      <td>0</td>\n",
       "      <td>...</td>\n",
       "      <td>1</td>\n",
       "      <td>0</td>\n",
       "      <td>0</td>\n",
       "      <td>0</td>\n",
       "      <td>0</td>\n",
       "      <td>1</td>\n",
       "      <td>0</td>\n",
       "      <td>0</td>\n",
       "      <td>0</td>\n",
       "      <td>Class_1</td>\n",
       "    </tr>\n",
       "  </tbody>\n",
       "</table>\n",
       "<p>5 rows × 94 columns</p>\n",
       "</div>"
      ],
      "text/plain": [
       "    feat_1  feat_2  feat_3  feat_4  feat_5  feat_6  feat_7  feat_8  feat_9  \\\n",
       "id                                                                           \n",
       "1        1       0       0       0       0       0       0       0       0   \n",
       "2        0       0       0       0       0       0       0       1       0   \n",
       "3        0       0       0       0       0       0       0       1       0   \n",
       "4        1       0       0       1       6       1       5       0       0   \n",
       "5        0       0       0       0       0       0       0       0       0   \n",
       "\n",
       "    feat_10   ...     feat_85  feat_86  feat_87  feat_88  feat_89  feat_90  \\\n",
       "id            ...                                                            \n",
       "1         0   ...           1        0        0        0        0        0   \n",
       "2         0   ...           0        0        0        0        0        0   \n",
       "3         0   ...           0        0        0        0        0        0   \n",
       "4         1   ...           0        1        2        0        0        0   \n",
       "5         0   ...           1        0        0        0        0        1   \n",
       "\n",
       "    feat_91  feat_92  feat_93   target  \n",
       "id                                      \n",
       "1         0        0        0  Class_1  \n",
       "2         0        0        0  Class_1  \n",
       "3         0        0        0  Class_1  \n",
       "4         0        0        0  Class_1  \n",
       "5         0        0        0  Class_1  \n",
       "\n",
       "[5 rows x 94 columns]"
      ]
     },
     "execution_count": 2,
     "metadata": {},
     "output_type": "execute_result"
    }
   ],
   "source": [
    "# Your code here\n",
    "df = pd.read_csv('otto_group.csv')\n",
    "df = df.set_index('id')\n",
    "df.head()"
   ]
  },
  {
   "cell_type": "code",
   "execution_count": 3,
   "metadata": {},
   "outputs": [
    {
     "data": {
      "text/html": [
       "<div>\n",
       "<style scoped>\n",
       "    .dataframe tbody tr th:only-of-type {\n",
       "        vertical-align: middle;\n",
       "    }\n",
       "\n",
       "    .dataframe tbody tr th {\n",
       "        vertical-align: top;\n",
       "    }\n",
       "\n",
       "    .dataframe thead th {\n",
       "        text-align: right;\n",
       "    }\n",
       "</style>\n",
       "<table border=\"1\" class=\"dataframe\">\n",
       "  <thead>\n",
       "    <tr style=\"text-align: right;\">\n",
       "      <th></th>\n",
       "      <th>feat_1</th>\n",
       "      <th>feat_2</th>\n",
       "      <th>feat_3</th>\n",
       "      <th>feat_4</th>\n",
       "      <th>feat_5</th>\n",
       "      <th>feat_6</th>\n",
       "      <th>feat_7</th>\n",
       "      <th>feat_8</th>\n",
       "      <th>feat_9</th>\n",
       "      <th>feat_10</th>\n",
       "      <th>...</th>\n",
       "      <th>feat_84</th>\n",
       "      <th>feat_85</th>\n",
       "      <th>feat_86</th>\n",
       "      <th>feat_87</th>\n",
       "      <th>feat_88</th>\n",
       "      <th>feat_89</th>\n",
       "      <th>feat_90</th>\n",
       "      <th>feat_91</th>\n",
       "      <th>feat_92</th>\n",
       "      <th>feat_93</th>\n",
       "    </tr>\n",
       "  </thead>\n",
       "  <tbody>\n",
       "    <tr>\n",
       "      <th>count</th>\n",
       "      <td>61878.00000</td>\n",
       "      <td>61878.000000</td>\n",
       "      <td>61878.000000</td>\n",
       "      <td>61878.000000</td>\n",
       "      <td>61878.000000</td>\n",
       "      <td>61878.000000</td>\n",
       "      <td>61878.000000</td>\n",
       "      <td>61878.000000</td>\n",
       "      <td>61878.000000</td>\n",
       "      <td>61878.000000</td>\n",
       "      <td>...</td>\n",
       "      <td>61878.000000</td>\n",
       "      <td>61878.000000</td>\n",
       "      <td>61878.000000</td>\n",
       "      <td>61878.000000</td>\n",
       "      <td>61878.000000</td>\n",
       "      <td>61878.000000</td>\n",
       "      <td>61878.000000</td>\n",
       "      <td>61878.000000</td>\n",
       "      <td>61878.000000</td>\n",
       "      <td>61878.000000</td>\n",
       "    </tr>\n",
       "    <tr>\n",
       "      <th>mean</th>\n",
       "      <td>0.38668</td>\n",
       "      <td>0.263066</td>\n",
       "      <td>0.901467</td>\n",
       "      <td>0.779081</td>\n",
       "      <td>0.071043</td>\n",
       "      <td>0.025696</td>\n",
       "      <td>0.193704</td>\n",
       "      <td>0.662433</td>\n",
       "      <td>1.011296</td>\n",
       "      <td>0.263906</td>\n",
       "      <td>...</td>\n",
       "      <td>0.070752</td>\n",
       "      <td>0.532306</td>\n",
       "      <td>1.128576</td>\n",
       "      <td>0.393549</td>\n",
       "      <td>0.874915</td>\n",
       "      <td>0.457772</td>\n",
       "      <td>0.812421</td>\n",
       "      <td>0.264941</td>\n",
       "      <td>0.380119</td>\n",
       "      <td>0.126135</td>\n",
       "    </tr>\n",
       "    <tr>\n",
       "      <th>std</th>\n",
       "      <td>1.52533</td>\n",
       "      <td>1.252073</td>\n",
       "      <td>2.934818</td>\n",
       "      <td>2.788005</td>\n",
       "      <td>0.438902</td>\n",
       "      <td>0.215333</td>\n",
       "      <td>1.030102</td>\n",
       "      <td>2.255770</td>\n",
       "      <td>3.474822</td>\n",
       "      <td>1.083340</td>\n",
       "      <td>...</td>\n",
       "      <td>1.151460</td>\n",
       "      <td>1.900438</td>\n",
       "      <td>2.681554</td>\n",
       "      <td>1.575455</td>\n",
       "      <td>2.115466</td>\n",
       "      <td>1.527385</td>\n",
       "      <td>4.597804</td>\n",
       "      <td>2.045646</td>\n",
       "      <td>0.982385</td>\n",
       "      <td>1.201720</td>\n",
       "    </tr>\n",
       "    <tr>\n",
       "      <th>min</th>\n",
       "      <td>0.00000</td>\n",
       "      <td>0.000000</td>\n",
       "      <td>0.000000</td>\n",
       "      <td>0.000000</td>\n",
       "      <td>0.000000</td>\n",
       "      <td>0.000000</td>\n",
       "      <td>0.000000</td>\n",
       "      <td>0.000000</td>\n",
       "      <td>0.000000</td>\n",
       "      <td>0.000000</td>\n",
       "      <td>...</td>\n",
       "      <td>0.000000</td>\n",
       "      <td>0.000000</td>\n",
       "      <td>0.000000</td>\n",
       "      <td>0.000000</td>\n",
       "      <td>0.000000</td>\n",
       "      <td>0.000000</td>\n",
       "      <td>0.000000</td>\n",
       "      <td>0.000000</td>\n",
       "      <td>0.000000</td>\n",
       "      <td>0.000000</td>\n",
       "    </tr>\n",
       "    <tr>\n",
       "      <th>25%</th>\n",
       "      <td>0.00000</td>\n",
       "      <td>0.000000</td>\n",
       "      <td>0.000000</td>\n",
       "      <td>0.000000</td>\n",
       "      <td>0.000000</td>\n",
       "      <td>0.000000</td>\n",
       "      <td>0.000000</td>\n",
       "      <td>0.000000</td>\n",
       "      <td>0.000000</td>\n",
       "      <td>0.000000</td>\n",
       "      <td>...</td>\n",
       "      <td>0.000000</td>\n",
       "      <td>0.000000</td>\n",
       "      <td>0.000000</td>\n",
       "      <td>0.000000</td>\n",
       "      <td>0.000000</td>\n",
       "      <td>0.000000</td>\n",
       "      <td>0.000000</td>\n",
       "      <td>0.000000</td>\n",
       "      <td>0.000000</td>\n",
       "      <td>0.000000</td>\n",
       "    </tr>\n",
       "    <tr>\n",
       "      <th>50%</th>\n",
       "      <td>0.00000</td>\n",
       "      <td>0.000000</td>\n",
       "      <td>0.000000</td>\n",
       "      <td>0.000000</td>\n",
       "      <td>0.000000</td>\n",
       "      <td>0.000000</td>\n",
       "      <td>0.000000</td>\n",
       "      <td>0.000000</td>\n",
       "      <td>0.000000</td>\n",
       "      <td>0.000000</td>\n",
       "      <td>...</td>\n",
       "      <td>0.000000</td>\n",
       "      <td>0.000000</td>\n",
       "      <td>0.000000</td>\n",
       "      <td>0.000000</td>\n",
       "      <td>0.000000</td>\n",
       "      <td>0.000000</td>\n",
       "      <td>0.000000</td>\n",
       "      <td>0.000000</td>\n",
       "      <td>0.000000</td>\n",
       "      <td>0.000000</td>\n",
       "    </tr>\n",
       "    <tr>\n",
       "      <th>75%</th>\n",
       "      <td>0.00000</td>\n",
       "      <td>0.000000</td>\n",
       "      <td>0.000000</td>\n",
       "      <td>0.000000</td>\n",
       "      <td>0.000000</td>\n",
       "      <td>0.000000</td>\n",
       "      <td>0.000000</td>\n",
       "      <td>1.000000</td>\n",
       "      <td>0.000000</td>\n",
       "      <td>0.000000</td>\n",
       "      <td>...</td>\n",
       "      <td>0.000000</td>\n",
       "      <td>0.000000</td>\n",
       "      <td>1.000000</td>\n",
       "      <td>0.000000</td>\n",
       "      <td>1.000000</td>\n",
       "      <td>0.000000</td>\n",
       "      <td>0.000000</td>\n",
       "      <td>0.000000</td>\n",
       "      <td>0.000000</td>\n",
       "      <td>0.000000</td>\n",
       "    </tr>\n",
       "    <tr>\n",
       "      <th>max</th>\n",
       "      <td>61.00000</td>\n",
       "      <td>51.000000</td>\n",
       "      <td>64.000000</td>\n",
       "      <td>70.000000</td>\n",
       "      <td>19.000000</td>\n",
       "      <td>10.000000</td>\n",
       "      <td>38.000000</td>\n",
       "      <td>76.000000</td>\n",
       "      <td>43.000000</td>\n",
       "      <td>30.000000</td>\n",
       "      <td>...</td>\n",
       "      <td>76.000000</td>\n",
       "      <td>55.000000</td>\n",
       "      <td>65.000000</td>\n",
       "      <td>67.000000</td>\n",
       "      <td>30.000000</td>\n",
       "      <td>61.000000</td>\n",
       "      <td>130.000000</td>\n",
       "      <td>52.000000</td>\n",
       "      <td>19.000000</td>\n",
       "      <td>87.000000</td>\n",
       "    </tr>\n",
       "  </tbody>\n",
       "</table>\n",
       "<p>8 rows × 93 columns</p>\n",
       "</div>"
      ],
      "text/plain": [
       "            feat_1        feat_2        feat_3        feat_4        feat_5  \\\n",
       "count  61878.00000  61878.000000  61878.000000  61878.000000  61878.000000   \n",
       "mean       0.38668      0.263066      0.901467      0.779081      0.071043   \n",
       "std        1.52533      1.252073      2.934818      2.788005      0.438902   \n",
       "min        0.00000      0.000000      0.000000      0.000000      0.000000   \n",
       "25%        0.00000      0.000000      0.000000      0.000000      0.000000   \n",
       "50%        0.00000      0.000000      0.000000      0.000000      0.000000   \n",
       "75%        0.00000      0.000000      0.000000      0.000000      0.000000   \n",
       "max       61.00000     51.000000     64.000000     70.000000     19.000000   \n",
       "\n",
       "             feat_6        feat_7        feat_8        feat_9       feat_10  \\\n",
       "count  61878.000000  61878.000000  61878.000000  61878.000000  61878.000000   \n",
       "mean       0.025696      0.193704      0.662433      1.011296      0.263906   \n",
       "std        0.215333      1.030102      2.255770      3.474822      1.083340   \n",
       "min        0.000000      0.000000      0.000000      0.000000      0.000000   \n",
       "25%        0.000000      0.000000      0.000000      0.000000      0.000000   \n",
       "50%        0.000000      0.000000      0.000000      0.000000      0.000000   \n",
       "75%        0.000000      0.000000      1.000000      0.000000      0.000000   \n",
       "max       10.000000     38.000000     76.000000     43.000000     30.000000   \n",
       "\n",
       "           ...            feat_84       feat_85       feat_86       feat_87  \\\n",
       "count      ...       61878.000000  61878.000000  61878.000000  61878.000000   \n",
       "mean       ...           0.070752      0.532306      1.128576      0.393549   \n",
       "std        ...           1.151460      1.900438      2.681554      1.575455   \n",
       "min        ...           0.000000      0.000000      0.000000      0.000000   \n",
       "25%        ...           0.000000      0.000000      0.000000      0.000000   \n",
       "50%        ...           0.000000      0.000000      0.000000      0.000000   \n",
       "75%        ...           0.000000      0.000000      1.000000      0.000000   \n",
       "max        ...          76.000000     55.000000     65.000000     67.000000   \n",
       "\n",
       "            feat_88       feat_89       feat_90       feat_91       feat_92  \\\n",
       "count  61878.000000  61878.000000  61878.000000  61878.000000  61878.000000   \n",
       "mean       0.874915      0.457772      0.812421      0.264941      0.380119   \n",
       "std        2.115466      1.527385      4.597804      2.045646      0.982385   \n",
       "min        0.000000      0.000000      0.000000      0.000000      0.000000   \n",
       "25%        0.000000      0.000000      0.000000      0.000000      0.000000   \n",
       "50%        0.000000      0.000000      0.000000      0.000000      0.000000   \n",
       "75%        1.000000      0.000000      0.000000      0.000000      0.000000   \n",
       "max       30.000000     61.000000    130.000000     52.000000     19.000000   \n",
       "\n",
       "            feat_93  \n",
       "count  61878.000000  \n",
       "mean       0.126135  \n",
       "std        1.201720  \n",
       "min        0.000000  \n",
       "25%        0.000000  \n",
       "50%        0.000000  \n",
       "75%        0.000000  \n",
       "max       87.000000  \n",
       "\n",
       "[8 rows x 93 columns]"
      ]
     },
     "execution_count": 3,
     "metadata": {},
     "output_type": "execute_result"
    }
   ],
   "source": [
    "# Your code here\n",
    "df.describe()"
   ]
  },
  {
   "cell_type": "code",
   "execution_count": 4,
   "metadata": {},
   "outputs": [
    {
     "name": "stdout",
     "output_type": "stream",
     "text": [
      "<class 'pandas.core.frame.DataFrame'>\n",
      "Int64Index: 61878 entries, 1 to 61878\n",
      "Data columns (total 94 columns):\n",
      "feat_1     61878 non-null int64\n",
      "feat_2     61878 non-null int64\n",
      "feat_3     61878 non-null int64\n",
      "feat_4     61878 non-null int64\n",
      "feat_5     61878 non-null int64\n",
      "feat_6     61878 non-null int64\n",
      "feat_7     61878 non-null int64\n",
      "feat_8     61878 non-null int64\n",
      "feat_9     61878 non-null int64\n",
      "feat_10    61878 non-null int64\n",
      "feat_11    61878 non-null int64\n",
      "feat_12    61878 non-null int64\n",
      "feat_13    61878 non-null int64\n",
      "feat_14    61878 non-null int64\n",
      "feat_15    61878 non-null int64\n",
      "feat_16    61878 non-null int64\n",
      "feat_17    61878 non-null int64\n",
      "feat_18    61878 non-null int64\n",
      "feat_19    61878 non-null int64\n",
      "feat_20    61878 non-null int64\n",
      "feat_21    61878 non-null int64\n",
      "feat_22    61878 non-null int64\n",
      "feat_23    61878 non-null int64\n",
      "feat_24    61878 non-null int64\n",
      "feat_25    61878 non-null int64\n",
      "feat_26    61878 non-null int64\n",
      "feat_27    61878 non-null int64\n",
      "feat_28    61878 non-null int64\n",
      "feat_29    61878 non-null int64\n",
      "feat_30    61878 non-null int64\n",
      "feat_31    61878 non-null int64\n",
      "feat_32    61878 non-null int64\n",
      "feat_33    61878 non-null int64\n",
      "feat_34    61878 non-null int64\n",
      "feat_35    61878 non-null int64\n",
      "feat_36    61878 non-null int64\n",
      "feat_37    61878 non-null int64\n",
      "feat_38    61878 non-null int64\n",
      "feat_39    61878 non-null int64\n",
      "feat_40    61878 non-null int64\n",
      "feat_41    61878 non-null int64\n",
      "feat_42    61878 non-null int64\n",
      "feat_43    61878 non-null int64\n",
      "feat_44    61878 non-null int64\n",
      "feat_45    61878 non-null int64\n",
      "feat_46    61878 non-null int64\n",
      "feat_47    61878 non-null int64\n",
      "feat_48    61878 non-null int64\n",
      "feat_49    61878 non-null int64\n",
      "feat_50    61878 non-null int64\n",
      "feat_51    61878 non-null int64\n",
      "feat_52    61878 non-null int64\n",
      "feat_53    61878 non-null int64\n",
      "feat_54    61878 non-null int64\n",
      "feat_55    61878 non-null int64\n",
      "feat_56    61878 non-null int64\n",
      "feat_57    61878 non-null int64\n",
      "feat_58    61878 non-null int64\n",
      "feat_59    61878 non-null int64\n",
      "feat_60    61878 non-null int64\n",
      "feat_61    61878 non-null int64\n",
      "feat_62    61878 non-null int64\n",
      "feat_63    61878 non-null int64\n",
      "feat_64    61878 non-null int64\n",
      "feat_65    61878 non-null int64\n",
      "feat_66    61878 non-null int64\n",
      "feat_67    61878 non-null int64\n",
      "feat_68    61878 non-null int64\n",
      "feat_69    61878 non-null int64\n",
      "feat_70    61878 non-null int64\n",
      "feat_71    61878 non-null int64\n",
      "feat_72    61878 non-null int64\n",
      "feat_73    61878 non-null int64\n",
      "feat_74    61878 non-null int64\n",
      "feat_75    61878 non-null int64\n",
      "feat_76    61878 non-null int64\n",
      "feat_77    61878 non-null int64\n",
      "feat_78    61878 non-null int64\n",
      "feat_79    61878 non-null int64\n",
      "feat_80    61878 non-null int64\n",
      "feat_81    61878 non-null int64\n",
      "feat_82    61878 non-null int64\n",
      "feat_83    61878 non-null int64\n",
      "feat_84    61878 non-null int64\n",
      "feat_85    61878 non-null int64\n",
      "feat_86    61878 non-null int64\n",
      "feat_87    61878 non-null int64\n",
      "feat_88    61878 non-null int64\n",
      "feat_89    61878 non-null int64\n",
      "feat_90    61878 non-null int64\n",
      "feat_91    61878 non-null int64\n",
      "feat_92    61878 non-null int64\n",
      "feat_93    61878 non-null int64\n",
      "target     61878 non-null object\n",
      "dtypes: int64(93), object(1)\n",
      "memory usage: 44.8+ MB\n"
     ]
    }
   ],
   "source": [
    "# Your code here\n",
    "df.info()"
   ]
  },
  {
   "cell_type": "code",
   "execution_count": 5,
   "metadata": {},
   "outputs": [
    {
     "data": {
      "text/plain": [
       "Class_2    16122\n",
       "Class_6    14135\n",
       "Class_8     8464\n",
       "Class_3     8004\n",
       "Class_9     4955\n",
       "Class_7     2839\n",
       "Class_5     2739\n",
       "Class_4     2691\n",
       "Class_1     1929\n",
       "Name: target, dtype: int64"
      ]
     },
     "execution_count": 5,
     "metadata": {},
     "output_type": "execute_result"
    }
   ],
   "source": [
    "df['target'].value_counts()"
   ]
  },
  {
   "cell_type": "code",
   "execution_count": 6,
   "metadata": {},
   "outputs": [],
   "source": [
    "# Your code here\n",
    "X = df.drop('target', axis = 1)\n",
    "y = df['target']"
   ]
  },
  {
   "cell_type": "code",
   "execution_count": 7,
   "metadata": {},
   "outputs": [
    {
     "data": {
      "image/png": "[encoded data removed]",
      "text/plain": [
       "<Figure size 1152x1152 with 100 Axes>"
      ]
     },
     "metadata": {
      "needs_background": "light"
     },
     "output_type": "display_data"
    }
   ],
   "source": [
    "# Your code here\n",
    "X.hist(figsize = (16, 16))\n",
    "plt.show()"
   ]
  },
  {
   "cell_type": "markdown",
   "metadata": {},
   "source": [
    "If you look at all the histograms, you can tell that a lot of the data are zero-inflated, so most of the variables contain mostly zeros and then some higher values here and there. No normality, but for most machine learning techniques this is not an issue. "
   ]
  },
  {
   "cell_type": "code",
   "execution_count": 8,
   "metadata": {},
   "outputs": [],
   "source": [
    "# Your code here"
   ]
  },
  {
   "cell_type": "markdown",
   "metadata": {},
   "source": [
    "Because the data is zero-inflated the boxplots look as shown above. Because there are this many zeroes, most values above zero will seem to be outliers. The safe decision for this data is to not delete any outliers and see what happens. With many 0s, sparse data is available and high values may be super informative. More-over, without having any intuitive meaning for each of the features, we don't know if a value of ~260 is actually an outlier."
   ]
  },
  {
   "cell_type": "code",
   "execution_count": 9,
   "metadata": {},
   "outputs": [],
   "source": [
    "# Your code here"
   ]
  },
  {
   "cell_type": "markdown",
   "metadata": {},
   "source": [
    "## Feature engineering and selection with PCA"
   ]
  },
  {
   "cell_type": "markdown",
   "metadata": {},
   "source": [
    "Have a look at the correlation structure of your features using a heatmap."
   ]
  },
  {
   "cell_type": "code",
   "execution_count": 10,
   "metadata": {},
   "outputs": [
    {
     "data": {
      "text/plain": [
       "<matplotlib.axes._subplots.AxesSubplot at 0x1e5d7dee2e8>"
      ]
     },
     "execution_count": 10,
     "metadata": {},
     "output_type": "execute_result"
    },
    {
     "data": {
      "image/png": "[encoded data removed]",
      "text/plain": [
       "<Figure size 432x288 with 2 Axes>"
      ]
     },
     "metadata": {
      "needs_background": "light"
     },
     "output_type": "display_data"
    }
   ],
   "source": [
    "# Your code here\n",
    "import seaborn as sns\n",
    "\n",
    "sns.heatmap(X.corr(), cmap=\"YlGnBu\", center = 0)"
   ]
  },
  {
   "cell_type": "markdown",
   "metadata": {},
   "source": [
    "Use PCA to downscale your features. Use PCA to select a number of features in a way that you still keep 80% of your explained variance."
   ]
  },
  {
   "cell_type": "code",
   "execution_count": 11,
   "metadata": {},
   "outputs": [],
   "source": [
    "# Your code here\n",
    "from sklearn.decomposition import PCA\n",
    "\n",
    "pca = PCA(n_components = 0.80)\n",
    "pca.fit(X)\n",
    "X_pca = pca.transform(X)"
   ]
  },
  {
   "cell_type": "code",
   "execution_count": 12,
   "metadata": {},
   "outputs": [
    {
     "name": "stdout",
     "output_type": "stream",
     "text": [
      "27\n",
      "[0.11772072 0.08614549 0.06388206 0.06128698 0.04409239 0.03969941\n",
      " 0.03489138 0.03150064 0.02938002 0.02746162 0.02593253 0.02225107\n",
      " 0.02161839 0.01970549 0.01922543 0.01860701 0.01751872 0.01705397\n",
      " 0.01549944 0.01413898 0.01244381 0.01182551 0.01070234 0.01016371\n",
      " 0.01000721 0.00928326 0.00860024]\n"
     ]
    }
   ],
   "source": [
    "# Your code here\n",
    "print(pca.n_components_)\n",
    "print(pca.explained_variance_ratio_)"
   ]
  },
  {
   "cell_type": "markdown",
   "metadata": {},
   "source": [
    "## Create a train test split with a test size of 40%"
   ]
  },
  {
   "cell_type": "markdown",
   "metadata": {},
   "source": [
    "This is a relatively big training set. Feel free to make it smaller (down to ~20%), but for an initial run you can try smaller training sets so the computation time is more manageable.\n",
    "\n",
    "For now, simply use the original data and not the principal components. We looked at the PC's first to get a sense of our correlation structure, and to see how we can downsize our data without losing too much information. In what's next, you'll make PCA part of the pipeline!!"
   ]
  },
  {
   "cell_type": "code",
   "execution_count": 13,
   "metadata": {},
   "outputs": [],
   "source": [
    "# Your code here\n",
    "from sklearn.model_selection import train_test_split\n",
    "\n",
    "X_train, X_test, y_train, y_test = train_test_split(X, y, test_size = 0.4, random_state = 42)"
   ]
  },
  {
   "cell_type": "code",
   "execution_count": 14,
   "metadata": {},
   "outputs": [],
   "source": [
    "# Your code here"
   ]
  },
  {
   "cell_type": "markdown",
   "metadata": {},
   "source": [
    "## Create a baseline model"
   ]
  },
  {
   "cell_type": "markdown",
   "metadata": {},
   "source": [
    "Create your baseline model *in a pipeline setting*. In the pipeline\n",
    "- Your first step will be to scale your features down to the number of features that ensure you keep just 80% of your explained variance (which we saw before)\n",
    "- Your second step will be the building a basic logistic regression model.\n",
    "\n",
    "Make sure to fit the model using the training set, and test the result by obtaining the accuracy using the test set."
   ]
  },
  {
   "cell_type": "code",
   "execution_count": 15,
   "metadata": {},
   "outputs": [],
   "source": [
    "# Your code here\n",
    "from sklearn.pipeline import Pipeline\n",
    "from sklearn.linear_model import LogisticRegression\n",
    "\n",
    "pipe1 = Pipeline(steps = [('pca', PCA(n_components = 0.80)), \n",
    "                            ('logreg', LogisticRegression(multi_class = 'auto'))])"
   ]
  },
  {
   "cell_type": "code",
   "execution_count": 16,
   "metadata": {},
   "outputs": [
    {
     "name": "stderr",
     "output_type": "stream",
     "text": [
      "C:\\Users\\david\\Anaconda3\\lib\\site-packages\\sklearn\\linear_model\\logistic.py:433: FutureWarning: Default solver will be changed to 'lbfgs' in 0.22. Specify a solver to silence this warning.\n",
      "  FutureWarning)\n"
     ]
    },
    {
     "data": {
      "text/plain": [
       "0.7172349709114415"
      ]
     },
     "execution_count": 16,
     "metadata": {},
     "output_type": "execute_result"
    }
   ],
   "source": [
    "# Your code here\n",
    "from sklearn.metrics import accuracy_score\n",
    "\n",
    "pipe1.fit(X_train, y_train)\n",
    "accuracy_score(y_test, pipe1.predict(X_test))"
   ]
  },
  {
   "cell_type": "code",
   "execution_count": 17,
   "metadata": {},
   "outputs": [],
   "source": [
    "# Your code here"
   ]
  },
  {
   "cell_type": "markdown",
   "metadata": {},
   "source": [
    "## Create a pipeline consisting of a linear SVM, a simple Decision Tree and a simple Random Forest Classifier"
   ]
  },
  {
   "cell_type": "markdown",
   "metadata": {},
   "source": [
    "Repeat the above, but now create three different pipelines:\n",
    "- One for a standard linear SCM\n",
    "- One for a default decision tree\n",
    "- One for a RandomForestClassifier"
   ]
  },
  {
   "cell_type": "code",
   "execution_count": 18,
   "metadata": {},
   "outputs": [
    {
     "data": {
      "text/plain": [
       "0.7363445378151261"
      ]
     },
     "execution_count": 18,
     "metadata": {},
     "output_type": "execute_result"
    }
   ],
   "source": [
    "# Your code here\n",
    "from sklearn.svm import SVC\n",
    "\n",
    "pipe2 = Pipeline(steps = [('pca', PCA(n_components = 0.80)), \n",
    "                            ('svc', SVC(kernel = 'linear'))])\n",
    "pipe2.fit(X_train, y_train)\n",
    "accuracy_score(y_test, pipe2.predict(X_test))"
   ]
  },
  {
   "cell_type": "code",
   "execution_count": 19,
   "metadata": {},
   "outputs": [
    {
     "data": {
      "text/plain": [
       "0.6706124757595345"
      ]
     },
     "execution_count": 19,
     "metadata": {},
     "output_type": "execute_result"
    }
   ],
   "source": [
    "from sklearn.tree import DecisionTreeClassifier\n",
    "\n",
    "pipe3 = Pipeline(steps = [('pca', PCA(n_components = 0.80)), \n",
    "                            ('DTC', DecisionTreeClassifier())])\n",
    "pipe3.fit(X_train, y_train)\n",
    "accuracy_score(y_test, pipe3.predict(X_test))"
   ]
  },
  {
   "cell_type": "code",
   "execution_count": 20,
   "metadata": {},
   "outputs": [
    {
     "name": "stderr",
     "output_type": "stream",
     "text": [
      "C:\\Users\\david\\Anaconda3\\lib\\site-packages\\sklearn\\ensemble\\forest.py:246: FutureWarning: The default value of n_estimators will change from 10 in version 0.20 to 100 in 0.22.\n",
      "  \"10 in version 0.20 to 100 in 0.22.\", FutureWarning)\n"
     ]
    },
    {
     "data": {
      "text/plain": [
       "0.7448691014867486"
      ]
     },
     "execution_count": 20,
     "metadata": {},
     "output_type": "execute_result"
    }
   ],
   "source": [
    "from sklearn.ensemble import RandomForestClassifier\n",
    "\n",
    "pipe4 = Pipeline(steps = [('pca', PCA(n_components = 0.80)), \n",
    "                            ('RFC', RandomForestClassifier())])\n",
    "pipe4.fit(X_train, y_train)\n",
    "accuracy_score(y_test, pipe4.predict(X_test))"
   ]
  },
  {
   "cell_type": "markdown",
   "metadata": {},
   "source": [
    "## Pipeline with grid search"
   ]
  },
  {
   "cell_type": "markdown",
   "metadata": {},
   "source": [
    "Construct 3 pipelines with grid search\n",
    "- one for support vector machines - make sure your grid isn't too big. You'll see it takes quite a while to fit SVMs with non-linear kernel functions!\n",
    "- one for random forests - try to have around 40 different models\n",
    "- one for the adaboost algorithm. "
   ]
  },
  {
   "cell_type": "markdown",
   "metadata": {},
   "source": [
    "### SVM pipeline with grid search"
   ]
  },
  {
   "cell_type": "code",
   "execution_count": 21,
   "metadata": {},
   "outputs": [
    {
     "data": {
      "text/plain": [
       "GridSearchCV(cv=3, error_score='raise-deprecating',\n",
       "       estimator=Pipeline(memory=None,\n",
       "     steps=[('pca', PCA(copy=True, iterated_power='auto', n_components=0.8, random_state=None,\n",
       "  svd_solver='auto', tol=0.0, whiten=False)), ('svc', SVC(C=1.0, cache_size=200, class_weight=None, coef0=0.0,\n",
       "  decision_function_shape='ovr', degree=3, gamma='auto_deprecated',\n",
       "  kernel='linear', max_iter=-1, probability=False, random_state=None,\n",
       "  shrinking=True, tol=0.001, verbose=False))]),\n",
       "       fit_params=None, iid='warn', n_jobs=None,\n",
       "       param_grid=[{'svc__kernel': ['poly', 'sigmoid'], 'svc__C': [0.01, 1, 100], 'svc__gamma': [0.001, 0.01]}],\n",
       "       pre_dispatch='2*n_jobs', refit=True, return_train_score='warn',\n",
       "       scoring='accuracy', verbose=0)"
      ]
     },
     "execution_count": 21,
     "metadata": {},
     "output_type": "execute_result"
    }
   ],
   "source": [
    "from sklearn.model_selection import GridSearchCV\n",
    "\n",
    "# Create the grid parameter\n",
    "grid2 = [{'svc__kernel': ['poly', 'sigmoid'],\n",
    "         'svc__C': [0.01, 1, 100],\n",
    "         'svc__gamma': [0.001, 0.01]}]\n",
    "\n",
    "# Create the grid, with \"pipe\" as the estimator\n",
    "gridsearch2 = GridSearchCV(estimator=pipe2,\n",
    "                  param_grid=grid2,\n",
    "                  scoring='accuracy',\n",
    "                  cv=3)\n",
    "\n",
    "# Fit using grid search\n",
    "gridsearch2.fit(X_train, y_train)"
   ]
  },
  {
   "cell_type": "code",
   "execution_count": 22,
   "metadata": {},
   "outputs": [
    {
     "data": {
      "text/plain": [
       "{'svc__C': 1, 'svc__gamma': 0.01, 'svc__kernel': 'poly'}"
      ]
     },
     "execution_count": 22,
     "metadata": {},
     "output_type": "execute_result"
    }
   ],
   "source": [
    "# Your code here\n",
    "gridsearch2.best_params_"
   ]
  },
  {
   "cell_type": "markdown",
   "metadata": {},
   "source": [
    "Use your grid search object along with `.cv_results` to get the full result overview"
   ]
  },
  {
   "cell_type": "code",
   "execution_count": 23,
   "metadata": {},
   "outputs": [
    {
     "name": "stderr",
     "output_type": "stream",
     "text": [
      "C:\\Users\\david\\Anaconda3\\lib\\site-packages\\sklearn\\utils\\deprecation.py:125: FutureWarning: You are accessing a training score ('split0_train_score'), which will not be available by default any more in 0.21. If you need training scores, please set return_train_score=True\n",
      "  warnings.warn(*warn_args, **warn_kwargs)\n",
      "C:\\Users\\david\\Anaconda3\\lib\\site-packages\\sklearn\\utils\\deprecation.py:125: FutureWarning: You are accessing a training score ('split1_train_score'), which will not be available by default any more in 0.21. If you need training scores, please set return_train_score=True\n",
      "  warnings.warn(*warn_args, **warn_kwargs)\n",
      "C:\\Users\\david\\Anaconda3\\lib\\site-packages\\sklearn\\utils\\deprecation.py:125: FutureWarning: You are accessing a training score ('split2_train_score'), which will not be available by default any more in 0.21. If you need training scores, please set return_train_score=True\n",
      "  warnings.warn(*warn_args, **warn_kwargs)\n",
      "C:\\Users\\david\\Anaconda3\\lib\\site-packages\\sklearn\\utils\\deprecation.py:125: FutureWarning: You are accessing a training score ('mean_train_score'), which will not be available by default any more in 0.21. If you need training scores, please set return_train_score=True\n",
      "  warnings.warn(*warn_args, **warn_kwargs)\n",
      "C:\\Users\\david\\Anaconda3\\lib\\site-packages\\sklearn\\utils\\deprecation.py:125: FutureWarning: You are accessing a training score ('std_train_score'), which will not be available by default any more in 0.21. If you need training scores, please set return_train_score=True\n",
      "  warnings.warn(*warn_args, **warn_kwargs)\n"
     ]
    },
    {
     "data": {
      "text/plain": [
       "{'mean_fit_time': array([ 39.14592059,  43.79728564,  24.3330102 ,  32.7342511 ,\n",
       "         28.76217421,  15.64153067,  22.0850815 ,  14.74949018,\n",
       "         20.07574097,  10.14300267, 464.84369294,  15.61020676]),\n",
       " 'std_fit_time': array([ 1.01692679,  2.02429324,  0.39067285,  0.31899043,  0.09714341,\n",
       "         1.09787146,  0.51181619,  0.17618969,  0.20592969,  0.24598314,\n",
       "        24.32192315,  0.2272096 ]),\n",
       " 'mean_score_time': array([ 9.85942928, 11.83944503,  6.77177572, 10.89942082,  7.91040293,\n",
       "         7.43755809,  5.11098822,  8.23429569,  5.77577051,  6.41222771,\n",
       "         4.80209017,  8.33393065]),\n",
       " 'std_score_time': array([0.00543451, 0.14505922, 0.11685419, 0.255897  , 0.02735279,\n",
       "        0.32490313, 0.04653487, 0.13493263, 0.01419196, 0.044567  ,\n",
       "        0.01905995, 0.1139808 ]),\n",
       " 'param_svc__C': masked_array(data=[0.01, 0.01, 0.01, 0.01, 1, 1, 1, 1, 100, 100, 100, 100],\n",
       "              mask=[False, False, False, False, False, False, False, False,\n",
       "                    False, False, False, False],\n",
       "        fill_value='?',\n",
       "             dtype=object),\n",
       " 'param_svc__gamma': masked_array(data=[0.001, 0.001, 0.01, 0.01, 0.001, 0.001, 0.01, 0.01,\n",
       "                    0.001, 0.001, 0.01, 0.01],\n",
       "              mask=[False, False, False, False, False, False, False, False,\n",
       "                    False, False, False, False],\n",
       "        fill_value='?',\n",
       "             dtype=object),\n",
       " 'param_svc__kernel': masked_array(data=['poly', 'sigmoid', 'poly', 'sigmoid', 'poly',\n",
       "                    'sigmoid', 'poly', 'sigmoid', 'poly', 'sigmoid',\n",
       "                    'poly', 'sigmoid'],\n",
       "              mask=[False, False, False, False, False, False, False, False,\n",
       "                    False, False, False, False],\n",
       "        fill_value='?',\n",
       "             dtype=object),\n",
       " 'params': [{'svc__C': 0.01, 'svc__gamma': 0.001, 'svc__kernel': 'poly'},\n",
       "  {'svc__C': 0.01, 'svc__gamma': 0.001, 'svc__kernel': 'sigmoid'},\n",
       "  {'svc__C': 0.01, 'svc__gamma': 0.01, 'svc__kernel': 'poly'},\n",
       "  {'svc__C': 0.01, 'svc__gamma': 0.01, 'svc__kernel': 'sigmoid'},\n",
       "  {'svc__C': 1, 'svc__gamma': 0.001, 'svc__kernel': 'poly'},\n",
       "  {'svc__C': 1, 'svc__gamma': 0.001, 'svc__kernel': 'sigmoid'},\n",
       "  {'svc__C': 1, 'svc__gamma': 0.01, 'svc__kernel': 'poly'},\n",
       "  {'svc__C': 1, 'svc__gamma': 0.01, 'svc__kernel': 'sigmoid'},\n",
       "  {'svc__C': 100, 'svc__gamma': 0.001, 'svc__kernel': 'poly'},\n",
       "  {'svc__C': 100, 'svc__gamma': 0.001, 'svc__kernel': 'sigmoid'},\n",
       "  {'svc__C': 100, 'svc__gamma': 0.01, 'svc__kernel': 'poly'},\n",
       "  {'svc__C': 100, 'svc__gamma': 0.01, 'svc__kernel': 'sigmoid'}],\n",
       " 'split0_test_score': array([0.32969785, 0.57965746, 0.62958475, 0.60615608, 0.52981095,\n",
       "        0.63152367, 0.74866699, 0.5210858 , 0.7198255 , 0.60268218,\n",
       "        0.74406205, 0.51268379]),\n",
       " 'split1_test_score': array([0.33486869, 0.57866667, 0.62876768, 0.6020202 , 0.52977778,\n",
       "        0.63418182, 0.74981818, 0.49858586, 0.72323232, 0.59248485,\n",
       "        0.74149495, 0.50513131]),\n",
       " 'split2_test_score': array([0.332579  , 0.58263962, 0.62830356, 0.60785582, 0.53535925,\n",
       "        0.62878849, 0.74937364, 0.52614564, 0.71664107, 0.59848056,\n",
       "        0.74905035, 0.51620464]),\n",
       " 'mean_test_score': array([0.33238162, 0.58032107, 0.62888542, 0.60534396, 0.53164898,\n",
       "        0.63149814, 0.74928621, 0.51527232, 0.7198998 , 0.59788289,\n",
       "        0.74486883, 0.51133976]),\n",
       " 'std_test_score': array([0.00211569, 0.0016884 , 0.00052963, 0.00245051, 0.00262322,\n",
       "        0.00220177, 0.00047404, 0.01197833, 0.00269123, 0.00418463,\n",
       "        0.00313665, 0.00461928]),\n",
       " 'rank_test_score': array([12,  8,  5,  6,  9,  4,  1, 10,  3,  7,  2, 11]),\n",
       " 'split0_train_score': array([0.33457249, 0.57847099, 0.63778891, 0.60481655, 0.53535639,\n",
       "        0.62748505, 0.7992161 , 0.50921287, 0.74357524, 0.59932116,\n",
       "        0.88346533, 0.5055358 ]),\n",
       " 'split1_train_score': array([0.33190578, 0.5821987 , 0.63682275, 0.60252111, 0.53609955,\n",
       "        0.63237849, 0.79839198, 0.50777746, 0.74546483, 0.59286493,\n",
       "        0.88873177, 0.51197931]),\n",
       " 'split2_train_score': array([0.33361613, 0.58057609, 0.64040722, 0.60877469, 0.53464227,\n",
       "        0.63240819, 0.79351998, 0.53169313, 0.74403103, 0.60707793,\n",
       "        0.88563002, 0.52478487]),\n",
       " 'mean_train_score': array([0.3333648 , 0.58041526, 0.63833963, 0.60537079, 0.53536607,\n",
       "        0.63075724, 0.79704269, 0.51622782, 0.74435703, 0.59975467,\n",
       "        0.88594237, 0.5141    ]),\n",
       " 'std_train_score': array([0.00110309, 0.00152608, 0.00151428, 0.00258292, 0.00059497,\n",
       "        0.00231382, 0.00251355, 0.01095131, 0.00080513, 0.00581052,\n",
       "        0.00216133, 0.0080002 ])}"
      ]
     },
     "execution_count": 23,
     "metadata": {},
     "output_type": "execute_result"
    }
   ],
   "source": [
    "# Your code here\n",
    "gridsearch2.cv_results_"
   ]
  },
  {
   "cell_type": "markdown",
   "metadata": {},
   "source": [
    "### Random Forest pipeline with grid search"
   ]
  },
  {
   "cell_type": "code",
   "execution_count": 24,
   "metadata": {},
   "outputs": [
    {
     "data": {
      "text/plain": [
       "GridSearchCV(cv=3, error_score='raise-deprecating',\n",
       "       estimator=Pipeline(memory=None,\n",
       "     steps=[('pca', PCA(copy=True, iterated_power='auto', n_components=0.8, random_state=None,\n",
       "  svd_solver='auto', tol=0.0, whiten=False)), ('RFC', RandomForestClassifier(bootstrap=True, class_weight=None, criterion='gini',\n",
       "            max_depth=None, max_features='auto', max_leaf_nodes=None,\n",
       "          ...obs=None,\n",
       "            oob_score=False, random_state=None, verbose=0,\n",
       "            warm_start=False))]),\n",
       "       fit_params=None, iid='warn', n_jobs=None,\n",
       "       param_grid=[{'RFC__n_estimators': [10, 100], 'RFC__criterion': ['gini', 'entropy'], 'RFC__max_depth': [10, 25, None], 'RFC__min_samples_leaf': [1, 10, 50]}],\n",
       "       pre_dispatch='2*n_jobs', refit=True, return_train_score='warn',\n",
       "       scoring='accuracy', verbose=0)"
      ]
     },
     "execution_count": 24,
     "metadata": {},
     "output_type": "execute_result"
    }
   ],
   "source": [
    "# Create the grid parameter\n",
    "grid4 = [{'RFC__n_estimators': [10, 100],\n",
    "         'RFC__criterion': ['gini', 'entropy'],\n",
    "         'RFC__max_depth': [10, 25, None],\n",
    "         'RFC__min_samples_leaf': [1, 10, 50]}]\n",
    "\n",
    "# Create the grid, with \"pipe\" as the estimator\n",
    "gridsearch4 = GridSearchCV(estimator=pipe4,\n",
    "                  param_grid=grid4,\n",
    "                  scoring='accuracy',\n",
    "                  cv=3)\n",
    "\n",
    "# Fit using grid search\n",
    "gridsearch4.fit(X_train, y_train)\n",
    "\n",
    "# Your code here"
   ]
  },
  {
   "cell_type": "code",
   "execution_count": 25,
   "metadata": {},
   "outputs": [
    {
     "name": "stdout",
     "output_type": "stream",
     "text": [
      "{'RFC__criterion': 'gini', 'RFC__max_depth': 25, 'RFC__min_samples_leaf': 1, 'RFC__n_estimators': 100}\n"
     ]
    },
    {
     "name": "stderr",
     "output_type": "stream",
     "text": [
      "C:\\Users\\david\\Anaconda3\\lib\\site-packages\\sklearn\\utils\\deprecation.py:125: FutureWarning: You are accessing a training score ('split0_train_score'), which will not be available by default any more in 0.21. If you need training scores, please set return_train_score=True\n",
      "  warnings.warn(*warn_args, **warn_kwargs)\n",
      "C:\\Users\\david\\Anaconda3\\lib\\site-packages\\sklearn\\utils\\deprecation.py:125: FutureWarning: You are accessing a training score ('split1_train_score'), which will not be available by default any more in 0.21. If you need training scores, please set return_train_score=True\n",
      "  warnings.warn(*warn_args, **warn_kwargs)\n",
      "C:\\Users\\david\\Anaconda3\\lib\\site-packages\\sklearn\\utils\\deprecation.py:125: FutureWarning: You are accessing a training score ('split2_train_score'), which will not be available by default any more in 0.21. If you need training scores, please set return_train_score=True\n",
      "  warnings.warn(*warn_args, **warn_kwargs)\n",
      "C:\\Users\\david\\Anaconda3\\lib\\site-packages\\sklearn\\utils\\deprecation.py:125: FutureWarning: You are accessing a training score ('mean_train_score'), which will not be available by default any more in 0.21. If you need training scores, please set return_train_score=True\n",
      "  warnings.warn(*warn_args, **warn_kwargs)\n",
      "C:\\Users\\david\\Anaconda3\\lib\\site-packages\\sklearn\\utils\\deprecation.py:125: FutureWarning: You are accessing a training score ('std_train_score'), which will not be available by default any more in 0.21. If you need training scores, please set return_train_score=True\n",
      "  warnings.warn(*warn_args, **warn_kwargs)\n"
     ]
    },
    {
     "data": {
      "text/plain": [
       "{'mean_fit_time': array([ 1.48117995, 10.86643187,  1.26025263, 10.40791512,  1.2699163 ,\n",
       "         9.49221611,  1.76575279, 16.35896118,  1.5508244 , 13.39760073,\n",
       "         1.34855755, 10.80111933,  1.7647539 , 16.06805706,  1.38254619,\n",
       "        12.3549428 ,  1.26258564, 10.71181472,  4.22794429, 40.12115979,\n",
       "         4.05166904, 38.51935299,  3.78708831, 32.7005953 ,  5.09465933,\n",
       "        49.46475474,  4.61881638, 42.70431042,  3.81541419, 36.87689137,\n",
       "         5.24027936, 50.12853869,  4.66880123, 44.55103715,  3.82674432,\n",
       "        36.90421557]),\n",
       " 'std_fit_time': array([0.1074332 , 0.08765587, 0.13333368, 0.17847319, 0.15814899,\n",
       "        0.08436167, 0.06377169, 0.10252402, 0.13499221, 0.24787986,\n",
       "        0.19718137, 0.24003309, 0.11809448, 0.29400865, 0.21685993,\n",
       "        1.09087627, 0.05268938, 0.19630631, 0.25070491, 0.25171851,\n",
       "        0.20686732, 0.43282171, 0.22466072, 1.7722549 , 0.07790772,\n",
       "        0.40314297, 0.23396331, 1.99778   , 0.22864933, 0.64121947,\n",
       "        0.15479767, 0.13256393, 0.00612752, 1.2045911 , 0.11046553,\n",
       "        0.51762792]),\n",
       " 'mean_score_time': array([0.05431549, 0.22625923, 0.05065012, 0.1999344 , 0.05064996,\n",
       "        0.22559253, 0.06831145, 0.3385574 , 0.0543162 , 0.26058118,\n",
       "        0.0506502 , 0.22425961, 0.06164686, 0.34755222, 0.04798436,\n",
       "        0.24125489, 0.04565175, 0.22326072, 0.04498569, 0.2092642 ,\n",
       "        0.04931776, 0.19793439, 0.04365277, 0.20993145, 0.04565287,\n",
       "        0.26591301, 0.06031402, 0.24025448, 0.05231659, 0.19093704,\n",
       "        0.05998023, 0.29423706, 0.04198511, 0.22792451, 0.04498466,\n",
       "        0.19926786]),\n",
       " 'std_score_time': array([6.59744288e-03, 3.44397787e-02, 8.25671847e-03, 3.46967666e-02,\n",
       "        6.12652213e-03, 9.42628336e-04, 2.62381292e-03, 2.93417937e-02,\n",
       "        8.01071101e-03, 2.89996986e-02, 7.58400106e-03, 2.67031969e-02,\n",
       "        8.25669606e-03, 3.42460255e-02, 8.48230618e-03, 2.93081070e-02,\n",
       "        9.42499066e-03, 3.33185702e-02, 7.06825130e-03, 2.73930292e-02,\n",
       "        8.17499981e-03, 2.90542480e-02, 7.31545293e-03, 2.54597159e-02,\n",
       "        4.72213381e-04, 2.77150952e-02, 9.42459734e-04, 2.88155733e-02,\n",
       "        8.80264309e-03, 2.13471379e-02, 9.89664199e-03, 5.34884950e-02,\n",
       "        2.97360213e-07, 2.49050543e-02, 7.78636762e-03, 3.09987591e-02]),\n",
       " 'param_RFC__criterion': masked_array(data=['gini', 'gini', 'gini', 'gini', 'gini', 'gini', 'gini',\n",
       "                    'gini', 'gini', 'gini', 'gini', 'gini', 'gini', 'gini',\n",
       "                    'gini', 'gini', 'gini', 'gini', 'entropy', 'entropy',\n",
       "                    'entropy', 'entropy', 'entropy', 'entropy', 'entropy',\n",
       "                    'entropy', 'entropy', 'entropy', 'entropy', 'entropy',\n",
       "                    'entropy', 'entropy', 'entropy', 'entropy', 'entropy',\n",
       "                    'entropy'],\n",
       "              mask=[False, False, False, False, False, False, False, False,\n",
       "                    False, False, False, False, False, False, False, False,\n",
       "                    False, False, False, False, False, False, False, False,\n",
       "                    False, False, False, False, False, False, False, False,\n",
       "                    False, False, False, False],\n",
       "        fill_value='?',\n",
       "             dtype=object),\n",
       " 'param_RFC__max_depth': masked_array(data=[10, 10, 10, 10, 10, 10, 25, 25, 25, 25, 25, 25, None,\n",
       "                    None, None, None, None, None, 10, 10, 10, 10, 10, 10,\n",
       "                    25, 25, 25, 25, 25, 25, None, None, None, None, None,\n",
       "                    None],\n",
       "              mask=[False, False, False, False, False, False, False, False,\n",
       "                    False, False, False, False, False, False, False, False,\n",
       "                    False, False, False, False, False, False, False, False,\n",
       "                    False, False, False, False, False, False, False, False,\n",
       "                    False, False, False, False],\n",
       "        fill_value='?',\n",
       "             dtype=object),\n",
       " 'param_RFC__min_samples_leaf': masked_array(data=[1, 1, 10, 10, 50, 50, 1, 1, 10, 10, 50, 50, 1, 1, 10,\n",
       "                    10, 50, 50, 1, 1, 10, 10, 50, 50, 1, 1, 10, 10, 50, 50,\n",
       "                    1, 1, 10, 10, 50, 50],\n",
       "              mask=[False, False, False, False, False, False, False, False,\n",
       "                    False, False, False, False, False, False, False, False,\n",
       "                    False, False, False, False, False, False, False, False,\n",
       "                    False, False, False, False, False, False, False, False,\n",
       "                    False, False, False, False],\n",
       "        fill_value='?',\n",
       "             dtype=object),\n",
       " 'param_RFC__n_estimators': masked_array(data=[10, 100, 10, 100, 10, 100, 10, 100, 10, 100, 10, 100,\n",
       "                    10, 100, 10, 100, 10, 100, 10, 100, 10, 100, 10, 100,\n",
       "                    10, 100, 10, 100, 10, 100, 10, 100, 10, 100, 10, 100],\n",
       "              mask=[False, False, False, False, False, False, False, False,\n",
       "                    False, False, False, False, False, False, False, False,\n",
       "                    False, False, False, False, False, False, False, False,\n",
       "                    False, False, False, False, False, False, False, False,\n",
       "                    False, False, False, False],\n",
       "        fill_value='?',\n",
       "             dtype=object),\n",
       " 'params': [{'RFC__criterion': 'gini',\n",
       "   'RFC__max_depth': 10,\n",
       "   'RFC__min_samples_leaf': 1,\n",
       "   'RFC__n_estimators': 10},\n",
       "  {'RFC__criterion': 'gini',\n",
       "   'RFC__max_depth': 10,\n",
       "   'RFC__min_samples_leaf': 1,\n",
       "   'RFC__n_estimators': 100},\n",
       "  {'RFC__criterion': 'gini',\n",
       "   'RFC__max_depth': 10,\n",
       "   'RFC__min_samples_leaf': 10,\n",
       "   'RFC__n_estimators': 10},\n",
       "  {'RFC__criterion': 'gini',\n",
       "   'RFC__max_depth': 10,\n",
       "   'RFC__min_samples_leaf': 10,\n",
       "   'RFC__n_estimators': 100},\n",
       "  {'RFC__criterion': 'gini',\n",
       "   'RFC__max_depth': 10,\n",
       "   'RFC__min_samples_leaf': 50,\n",
       "   'RFC__n_estimators': 10},\n",
       "  {'RFC__criterion': 'gini',\n",
       "   'RFC__max_depth': 10,\n",
       "   'RFC__min_samples_leaf': 50,\n",
       "   'RFC__n_estimators': 100},\n",
       "  {'RFC__criterion': 'gini',\n",
       "   'RFC__max_depth': 25,\n",
       "   'RFC__min_samples_leaf': 1,\n",
       "   'RFC__n_estimators': 10},\n",
       "  {'RFC__criterion': 'gini',\n",
       "   'RFC__max_depth': 25,\n",
       "   'RFC__min_samples_leaf': 1,\n",
       "   'RFC__n_estimators': 100},\n",
       "  {'RFC__criterion': 'gini',\n",
       "   'RFC__max_depth': 25,\n",
       "   'RFC__min_samples_leaf': 10,\n",
       "   'RFC__n_estimators': 10},\n",
       "  {'RFC__criterion': 'gini',\n",
       "   'RFC__max_depth': 25,\n",
       "   'RFC__min_samples_leaf': 10,\n",
       "   'RFC__n_estimators': 100},\n",
       "  {'RFC__criterion': 'gini',\n",
       "   'RFC__max_depth': 25,\n",
       "   'RFC__min_samples_leaf': 50,\n",
       "   'RFC__n_estimators': 10},\n",
       "  {'RFC__criterion': 'gini',\n",
       "   'RFC__max_depth': 25,\n",
       "   'RFC__min_samples_leaf': 50,\n",
       "   'RFC__n_estimators': 100},\n",
       "  {'RFC__criterion': 'gini',\n",
       "   'RFC__max_depth': None,\n",
       "   'RFC__min_samples_leaf': 1,\n",
       "   'RFC__n_estimators': 10},\n",
       "  {'RFC__criterion': 'gini',\n",
       "   'RFC__max_depth': None,\n",
       "   'RFC__min_samples_leaf': 1,\n",
       "   'RFC__n_estimators': 100},\n",
       "  {'RFC__criterion': 'gini',\n",
       "   'RFC__max_depth': None,\n",
       "   'RFC__min_samples_leaf': 10,\n",
       "   'RFC__n_estimators': 10},\n",
       "  {'RFC__criterion': 'gini',\n",
       "   'RFC__max_depth': None,\n",
       "   'RFC__min_samples_leaf': 10,\n",
       "   'RFC__n_estimators': 100},\n",
       "  {'RFC__criterion': 'gini',\n",
       "   'RFC__max_depth': None,\n",
       "   'RFC__min_samples_leaf': 50,\n",
       "   'RFC__n_estimators': 10},\n",
       "  {'RFC__criterion': 'gini',\n",
       "   'RFC__max_depth': None,\n",
       "   'RFC__min_samples_leaf': 50,\n",
       "   'RFC__n_estimators': 100},\n",
       "  {'RFC__criterion': 'entropy',\n",
       "   'RFC__max_depth': 10,\n",
       "   'RFC__min_samples_leaf': 1,\n",
       "   'RFC__n_estimators': 10},\n",
       "  {'RFC__criterion': 'entropy',\n",
       "   'RFC__max_depth': 10,\n",
       "   'RFC__min_samples_leaf': 1,\n",
       "   'RFC__n_estimators': 100},\n",
       "  {'RFC__criterion': 'entropy',\n",
       "   'RFC__max_depth': 10,\n",
       "   'RFC__min_samples_leaf': 10,\n",
       "   'RFC__n_estimators': 10},\n",
       "  {'RFC__criterion': 'entropy',\n",
       "   'RFC__max_depth': 10,\n",
       "   'RFC__min_samples_leaf': 10,\n",
       "   'RFC__n_estimators': 100},\n",
       "  {'RFC__criterion': 'entropy',\n",
       "   'RFC__max_depth': 10,\n",
       "   'RFC__min_samples_leaf': 50,\n",
       "   'RFC__n_estimators': 10},\n",
       "  {'RFC__criterion': 'entropy',\n",
       "   'RFC__max_depth': 10,\n",
       "   'RFC__min_samples_leaf': 50,\n",
       "   'RFC__n_estimators': 100},\n",
       "  {'RFC__criterion': 'entropy',\n",
       "   'RFC__max_depth': 25,\n",
       "   'RFC__min_samples_leaf': 1,\n",
       "   'RFC__n_estimators': 10},\n",
       "  {'RFC__criterion': 'entropy',\n",
       "   'RFC__max_depth': 25,\n",
       "   'RFC__min_samples_leaf': 1,\n",
       "   'RFC__n_estimators': 100},\n",
       "  {'RFC__criterion': 'entropy',\n",
       "   'RFC__max_depth': 25,\n",
       "   'RFC__min_samples_leaf': 10,\n",
       "   'RFC__n_estimators': 10},\n",
       "  {'RFC__criterion': 'entropy',\n",
       "   'RFC__max_depth': 25,\n",
       "   'RFC__min_samples_leaf': 10,\n",
       "   'RFC__n_estimators': 100},\n",
       "  {'RFC__criterion': 'entropy',\n",
       "   'RFC__max_depth': 25,\n",
       "   'RFC__min_samples_leaf': 50,\n",
       "   'RFC__n_estimators': 10},\n",
       "  {'RFC__criterion': 'entropy',\n",
       "   'RFC__max_depth': 25,\n",
       "   'RFC__min_samples_leaf': 50,\n",
       "   'RFC__n_estimators': 100},\n",
       "  {'RFC__criterion': 'entropy',\n",
       "   'RFC__max_depth': None,\n",
       "   'RFC__min_samples_leaf': 1,\n",
       "   'RFC__n_estimators': 10},\n",
       "  {'RFC__criterion': 'entropy',\n",
       "   'RFC__max_depth': None,\n",
       "   'RFC__min_samples_leaf': 1,\n",
       "   'RFC__n_estimators': 100},\n",
       "  {'RFC__criterion': 'entropy',\n",
       "   'RFC__max_depth': None,\n",
       "   'RFC__min_samples_leaf': 10,\n",
       "   'RFC__n_estimators': 10},\n",
       "  {'RFC__criterion': 'entropy',\n",
       "   'RFC__max_depth': None,\n",
       "   'RFC__min_samples_leaf': 10,\n",
       "   'RFC__n_estimators': 100},\n",
       "  {'RFC__criterion': 'entropy',\n",
       "   'RFC__max_depth': None,\n",
       "   'RFC__min_samples_leaf': 50,\n",
       "   'RFC__n_estimators': 10},\n",
       "  {'RFC__criterion': 'entropy',\n",
       "   'RFC__max_depth': None,\n",
       "   'RFC__min_samples_leaf': 50,\n",
       "   'RFC__n_estimators': 100}],\n",
       " 'split0_test_score': array([0.72168363, 0.7275004 , 0.71538213, 0.72580385, 0.70455647,\n",
       "        0.71570528, 0.7359832 , 0.76304734, 0.73824527, 0.74632412,\n",
       "        0.71231217, 0.72216836, 0.73469058, 0.76151236, 0.73089352,\n",
       "        0.74777832, 0.71691711, 0.72362256, 0.72224915, 0.73202456,\n",
       "        0.72459202, 0.73097431, 0.71255453, 0.71861367, 0.73517531,\n",
       "        0.76361286, 0.7394571 , 0.74624333, 0.71384715, 0.72257231,\n",
       "        0.73759897, 0.76207788, 0.73412506, 0.7464857 , 0.71707869,\n",
       "        0.72144127]),\n",
       " 'split1_test_score': array([0.71894949, 0.72735354, 0.7159596 , 0.72444444, 0.70925253,\n",
       "        0.71426263, 0.73333333, 0.76444444, 0.73519192, 0.74682828,\n",
       "        0.71377778, 0.72387879, 0.72929293, 0.76339394, 0.73583838,\n",
       "        0.74561616, 0.71442424, 0.72105051, 0.7239596 , 0.73357576,\n",
       "        0.72177778, 0.72905051, 0.7129697 , 0.71684848, 0.73381818,\n",
       "        0.76032323, 0.73511111, 0.74650505, 0.71466667, 0.71894949,\n",
       "        0.73107071, 0.75975758, 0.73268687, 0.74981818, 0.70828283,\n",
       "        0.71951515]),\n",
       " 'split2_test_score': array([0.71066031, 0.72359169, 0.71348905, 0.72213691, 0.70556858,\n",
       "        0.71284248, 0.73151216, 0.75874889, 0.73232038, 0.7408066 ,\n",
       "        0.71227673, 0.71793421, 0.73458337, 0.75794068, 0.73296694,\n",
       "        0.74371616, 0.71122606, 0.71849996, 0.72318759, 0.72811768,\n",
       "        0.71639861, 0.72569304, 0.70613432, 0.71583286, 0.72836014,\n",
       "        0.75915299, 0.73094642, 0.74266548, 0.71332741, 0.71914653,\n",
       "        0.73329023, 0.7610927 , 0.73005738, 0.74460519, 0.70750828,\n",
       "        0.71736846]),\n",
       " 'mean_test_score': array([0.71709853, 0.72614879, 0.71494371, 0.72412864, 0.70645909,\n",
       "        0.71427032, 0.73360987, 0.76208048, 0.73525292, 0.74465334,\n",
       "        0.71278888, 0.72132737, 0.73285568, 0.7609492 , 0.73323277,\n",
       "        0.74570382, 0.71418952, 0.72105802, 0.72313204, 0.73123956,\n",
       "        0.72092334, 0.72857297, 0.71055325, 0.71709853, 0.73245165,\n",
       "        0.76103001, 0.73517212, 0.74513818, 0.7139471 , 0.72022302,\n",
       "        0.73398696, 0.76097614, 0.73229004, 0.74696978, 0.71095728,\n",
       "        0.7194419 ]),\n",
       " 'std_test_score': array([0.00468674, 0.00180888, 0.00105513, 0.00151359, 0.00201798,\n",
       "        0.00116876, 0.00183575, 0.00242354, 0.00241923, 0.00272745,\n",
       "        0.00069939, 0.00249856, 0.00251957, 0.00226151, 0.00202756,\n",
       "        0.00165954, 0.0023293 , 0.00209131, 0.00069942, 0.00229625,\n",
       "        0.00339909, 0.00218236, 0.00312881, 0.00114895, 0.00294531,\n",
       "        0.00188809, 0.00347476, 0.00175148, 0.00055127, 0.00166341,\n",
       "        0.00271041, 0.00095088, 0.00168417, 0.00215544, 0.00434072,\n",
       "        0.00166353]),\n",
       " 'rank_test_score': array([27, 19, 29, 20, 36, 30, 12,  1,  9,  8, 33, 22, 14,  4, 13,  6, 31,\n",
       "        23, 21, 17, 24, 18, 35, 27, 15,  2, 10,  7, 32, 25, 11,  3, 16,  5,\n",
       "        34, 26]),\n",
       " 'split0_train_score': array([0.77000162, 0.77218361, 0.74494909, 0.75699046, 0.7256748 ,\n",
       "        0.73088734, 0.98953451, 0.99854534, 0.83554227, 0.85388718,\n",
       "        0.74183772, 0.75016163, 0.99022143, 1.        , 0.83647163,\n",
       "        0.85243252, 0.74220139, 0.74741393, 0.78256829, 0.79117504,\n",
       "        0.76187975, 0.76507193, 0.72890739, 0.73626152, 0.98953451,\n",
       "        1.        , 0.83590593, 0.85497818, 0.73715048, 0.74349442,\n",
       "        0.98989817, 0.99995959, 0.83428964, 0.8545337 , 0.73416034,\n",
       "        0.74466624]),\n",
       " 'split1_train_score': array([0.76619126, 0.77398893, 0.74704052, 0.75265646, 0.72445558,\n",
       "        0.72934427, 0.98852572, 0.99911115, 0.83620864, 0.85782393,\n",
       "        0.73924286, 0.74691932, 0.98973779, 0.9999596 , 0.83798634,\n",
       "        0.85661185, 0.74033372, 0.74639409, 0.77617066, 0.79067512,\n",
       "        0.75908044, 0.76259545, 0.72756656, 0.7316068 , 0.9899398 ,\n",
       "        1.        , 0.8372187 , 0.85774312, 0.734839  , 0.74005091,\n",
       "        0.99022262, 1.        , 0.83770353, 0.85887439, 0.73427336,\n",
       "        0.74037413]),\n",
       " 'split2_train_score': array([0.75405001, 0.76746253, 0.74277865, 0.75102008, 0.71975114,\n",
       "        0.72678059, 0.98792066, 0.99773765, 0.83141437, 0.84733164,\n",
       "        0.73954672, 0.74786895, 0.98981942, 1.        , 0.83363633,\n",
       "        0.8492708 , 0.73708237, 0.74613178, 0.77687553, 0.78232941,\n",
       "        0.75267644, 0.7595039 , 0.72496263, 0.73053771, 0.98901143,\n",
       "        0.9999596 , 0.83290914, 0.84975559, 0.7359916 , 0.73986991,\n",
       "        0.99006181, 1.        , 0.83460591, 0.8489072 , 0.73437563,\n",
       "        0.74188987]),\n",
       " 'mean_train_score': array([0.7634143 , 0.77121169, 0.74492275, 0.75355567, 0.72329384,\n",
       "        0.72900407, 0.98866029, 0.99846471, 0.83438843, 0.85301425,\n",
       "        0.7402091 , 0.74831663, 0.98992621, 0.99998653, 0.83603143,\n",
       "        0.85277172, 0.7398725 , 0.7466466 , 0.77853816, 0.78805986,\n",
       "        0.75787888, 0.76239042, 0.72714553, 0.73280201, 0.98949525,\n",
       "        0.99998653, 0.83534459, 0.85415896, 0.73599369, 0.74113842,\n",
       "        0.99006087, 0.99998653, 0.83553302, 0.8541051 , 0.73426978,\n",
       "        0.74231008]),\n",
       " 'std_train_score': array([6.80181643e-03, 2.75159910e-03, 1.74000098e-03, 2.51896907e-03,\n",
       "        2.55403788e-03, 1.69374449e-03, 6.65688938e-04, 5.63619478e-04,\n",
       "        2.12049553e-03, 4.32770506e-03, 1.15827228e-03, 1.36099585e-03,\n",
       "        2.11395171e-04, 1.90458778e-05, 1.80295934e-03, 3.00655723e-03,\n",
       "        2.11512490e-03, 5.53052264e-04, 2.86422354e-03, 4.05717412e-03,\n",
       "        3.85210077e-03, 2.27775569e-03, 1.63772768e-03, 2.48487042e-03,\n",
       "        3.80019814e-04, 1.90443389e-05, 1.80358824e-03, 3.31195033e-03,\n",
       "        9.43659083e-04, 1.66758747e-03, 1.32455257e-04, 1.90481866e-05,\n",
       "        1.54019867e-03, 4.08035725e-03, 8.79304038e-05, 1.77726016e-03])}"
      ]
     },
     "execution_count": 25,
     "metadata": {},
     "output_type": "execute_result"
    }
   ],
   "source": [
    "# Your code here\n",
    "print(gridsearch4.best_params_)\n",
    "gridsearch4.cv_results_"
   ]
  },
  {
   "cell_type": "markdown",
   "metadata": {},
   "source": [
    "## Adaboost"
   ]
  },
  {
   "cell_type": "code",
   "execution_count": 27,
   "metadata": {},
   "outputs": [
    {
     "data": {
      "text/plain": [
       "GridSearchCV(cv=3, error_score='raise-deprecating',\n",
       "       estimator=Pipeline(memory=None,\n",
       "     steps=[('pca', PCA(copy=True, iterated_power='auto', n_components=0.8, random_state=None,\n",
       "  svd_solver='auto', tol=0.0, whiten=False)), ('ABC', AdaBoostClassifier(algorithm='SAMME.R', base_estimator=None,\n",
       "          learning_rate=1.0, n_estimators=50, random_state=None))]),\n",
       "       fit_params=None, iid='warn', n_jobs=None,\n",
       "       param_grid=[{'ABC__n_estimators': [10, 50, 100, 200], 'ABC__learning_rate': [0.2, 0.5, 0.8, 1]}],\n",
       "       pre_dispatch='2*n_jobs', refit=True, return_train_score='warn',\n",
       "       scoring='accuracy', verbose=0)"
      ]
     },
     "execution_count": 27,
     "metadata": {},
     "output_type": "execute_result"
    }
   ],
   "source": [
    "# Your code here\n",
    "from sklearn.ensemble import AdaBoostClassifier\n",
    "\n",
    "pipe5 = Pipeline(steps = [('pca', PCA(n_components = 0.80)), \n",
    "                            ('ABC', AdaBoostClassifier())])\n",
    "\n",
    "grid5 = [{'ABC__n_estimators': [10, 50, 100, 200],\n",
    "         'ABC__learning_rate': [.2, .5, .8, 1]}]\n",
    "\n",
    "# Create the grid, with \"pipe\" as the estimator\n",
    "gridsearch5 = GridSearchCV(estimator=pipe5,\n",
    "                  param_grid=grid5,\n",
    "                  scoring='accuracy',\n",
    "                  cv=3)\n",
    "\n",
    "# Fit using grid search\n",
    "gridsearch5.fit(X_train, y_train)"
   ]
  },
  {
   "cell_type": "code",
   "execution_count": 28,
   "metadata": {},
   "outputs": [
    {
     "name": "stdout",
     "output_type": "stream",
     "text": [
      "{'ABC__learning_rate': 0.5, 'ABC__n_estimators': 50}\n"
     ]
    },
    {
     "name": "stderr",
     "output_type": "stream",
     "text": [
      "C:\\Users\\david\\Anaconda3\\lib\\site-packages\\sklearn\\utils\\deprecation.py:125: FutureWarning: You are accessing a training score ('split0_train_score'), which will not be available by default any more in 0.21. If you need training scores, please set return_train_score=True\n",
      "  warnings.warn(*warn_args, **warn_kwargs)\n",
      "C:\\Users\\david\\Anaconda3\\lib\\site-packages\\sklearn\\utils\\deprecation.py:125: FutureWarning: You are accessing a training score ('split1_train_score'), which will not be available by default any more in 0.21. If you need training scores, please set return_train_score=True\n",
      "  warnings.warn(*warn_args, **warn_kwargs)\n",
      "C:\\Users\\david\\Anaconda3\\lib\\site-packages\\sklearn\\utils\\deprecation.py:125: FutureWarning: You are accessing a training score ('split2_train_score'), which will not be available by default any more in 0.21. If you need training scores, please set return_train_score=True\n",
      "  warnings.warn(*warn_args, **warn_kwargs)\n",
      "C:\\Users\\david\\Anaconda3\\lib\\site-packages\\sklearn\\utils\\deprecation.py:125: FutureWarning: You are accessing a training score ('mean_train_score'), which will not be available by default any more in 0.21. If you need training scores, please set return_train_score=True\n",
      "  warnings.warn(*warn_args, **warn_kwargs)\n",
      "C:\\Users\\david\\Anaconda3\\lib\\site-packages\\sklearn\\utils\\deprecation.py:125: FutureWarning: You are accessing a training score ('std_train_score'), which will not be available by default any more in 0.21. If you need training scores, please set return_train_score=True\n",
      "  warnings.warn(*warn_args, **warn_kwargs)\n"
     ]
    },
    {
     "data": {
      "text/plain": [
       "{'mean_fit_time': array([ 1.71377047,  8.30593944, 15.99274778, 32.32938258,  1.71343708,\n",
       "         8.25862098, 16.37595685, 32.41468962,  1.76175507,  8.09973399,\n",
       "        16.10204665, 31.67759752,  1.71743631,  8.19164379, 16.27232345,\n",
       "        32.35504254]),\n",
       " 'std_fit_time': array([0.13554652, 0.11375896, 0.04948747, 0.16828453, 0.0849934 ,\n",
       "        0.11246872, 0.10855021, 0.297727  , 0.17670049, 0.10535835,\n",
       "        0.81597647, 0.9485226 , 0.14708726, 0.08197429, 0.06556457,\n",
       "        0.06200319]),\n",
       " 'mean_score_time': array([0.0569814 , 0.20559978, 0.44052203, 0.5194966 , 0.07464218,\n",
       "        0.20393348, 0.35321641, 0.82706173, 0.05631487, 0.19893535,\n",
       "        0.34955152, 0.51916258, 0.07497509, 0.20693199, 0.44452063,\n",
       "        0.66078361]),\n",
       " 'std_score_time': array([0.01413768, 0.04359186, 0.00286674, 0.018258  , 0.00047137,\n",
       "        0.04312102, 0.05469001, 0.0111417 , 0.01319505, 0.02687337,\n",
       "        0.06344771, 0.015918  , 0.00081585, 0.04527   , 0.00573298,\n",
       "        0.00697384]),\n",
       " 'param_ABC__learning_rate': masked_array(data=[0.2, 0.2, 0.2, 0.2, 0.5, 0.5, 0.5, 0.5, 0.8, 0.8, 0.8,\n",
       "                    0.8, 1, 1, 1, 1],\n",
       "              mask=[False, False, False, False, False, False, False, False,\n",
       "                    False, False, False, False, False, False, False, False],\n",
       "        fill_value='?',\n",
       "             dtype=object),\n",
       " 'param_ABC__n_estimators': masked_array(data=[10, 50, 100, 200, 10, 50, 100, 200, 10, 50, 100, 200,\n",
       "                    10, 50, 100, 200],\n",
       "              mask=[False, False, False, False, False, False, False, False,\n",
       "                    False, False, False, False, False, False, False, False],\n",
       "        fill_value='?',\n",
       "             dtype=object),\n",
       " 'params': [{'ABC__learning_rate': 0.2, 'ABC__n_estimators': 10},\n",
       "  {'ABC__learning_rate': 0.2, 'ABC__n_estimators': 50},\n",
       "  {'ABC__learning_rate': 0.2, 'ABC__n_estimators': 100},\n",
       "  {'ABC__learning_rate': 0.2, 'ABC__n_estimators': 200},\n",
       "  {'ABC__learning_rate': 0.5, 'ABC__n_estimators': 10},\n",
       "  {'ABC__learning_rate': 0.5, 'ABC__n_estimators': 50},\n",
       "  {'ABC__learning_rate': 0.5, 'ABC__n_estimators': 100},\n",
       "  {'ABC__learning_rate': 0.5, 'ABC__n_estimators': 200},\n",
       "  {'ABC__learning_rate': 0.8, 'ABC__n_estimators': 10},\n",
       "  {'ABC__learning_rate': 0.8, 'ABC__n_estimators': 50},\n",
       "  {'ABC__learning_rate': 0.8, 'ABC__n_estimators': 100},\n",
       "  {'ABC__learning_rate': 0.8, 'ABC__n_estimators': 200},\n",
       "  {'ABC__learning_rate': 1, 'ABC__n_estimators': 10},\n",
       "  {'ABC__learning_rate': 1, 'ABC__n_estimators': 50},\n",
       "  {'ABC__learning_rate': 1, 'ABC__n_estimators': 100},\n",
       "  {'ABC__learning_rate': 1, 'ABC__n_estimators': 200}],\n",
       " 'split0_test_score': array([0.53376959, 0.63548231, 0.64453062, 0.64865083, 0.56148005,\n",
       "        0.65907255, 0.63750202, 0.6067216 , 0.60857974, 0.64719664,\n",
       "        0.61892067, 0.54790758, 0.58264663, 0.63758281, 0.595492  ,\n",
       "        0.52762967]),\n",
       " 'split1_test_score': array([0.49406061, 0.64913131, 0.66763636, 0.66973737, 0.58246465,\n",
       "        0.67062626, 0.6530101 , 0.59571717, 0.57761616, 0.64412121,\n",
       "        0.56153535, 0.52476768, 0.56993939, 0.61317172, 0.56711111,\n",
       "        0.48832323]),\n",
       " 'split2_test_score': array([0.48848299, 0.64616504, 0.66887578, 0.66871414, 0.58797381,\n",
       "        0.6632183 , 0.655217  , 0.61480643, 0.58158894, 0.63897196,\n",
       "        0.61529136, 0.55354401, 0.58223551, 0.60850238, 0.57471915,\n",
       "        0.53333872]),\n",
       " 'mean_test_score': array([0.50544093, 0.64359209, 0.66034585, 0.662366  , 0.57730432,\n",
       "        0.66430534, 0.64857512, 0.60574799, 0.58926359, 0.64343048,\n",
       "        0.5985832 , 0.54207294, 0.57827399, 0.61975435, 0.57910898,\n",
       "        0.51643053]),\n",
       " 'std_test_score': array([0.0201636 , 0.00586185, 0.0111963 , 0.00970864, 0.011415  ,\n",
       "        0.00477921, 0.00788278, 0.0078231 , 0.01375672, 0.00339307,\n",
       "        0.02623812, 0.0124509 , 0.00589572, 0.01275193, 0.01199546,\n",
       "        0.02001066]),\n",
       " 'rank_test_score': array([16,  5,  3,  2, 13,  1,  4,  8, 10,  6,  9, 14, 12,  7, 11, 15]),\n",
       " 'split0_train_score': array([0.53333603, 0.63791013, 0.65253758, 0.66320511, 0.5608534 ,\n",
       "        0.66643769, 0.64667852, 0.61099887, 0.61382738, 0.65613383,\n",
       "        0.62647487, 0.55834815, 0.58493616, 0.64813318, 0.60016971,\n",
       "        0.53442702]),\n",
       " 'split1_train_score': array([0.49634358, 0.64789301, 0.66704376, 0.6727809 , 0.5821583 ,\n",
       "        0.67209406, 0.65536746, 0.59504666, 0.57670397, 0.64748899,\n",
       "        0.56236112, 0.52624136, 0.57019918, 0.61868207, 0.56801745,\n",
       "        0.49529312]),\n",
       " 'split2_train_score': array([0.48895083, 0.6461843 , 0.67070658, 0.66868662, 0.58663596,\n",
       "        0.67006019, 0.65636489, 0.6177433 , 0.58186886, 0.64380075,\n",
       "        0.62065204, 0.56082091, 0.58199006, 0.61277421, 0.58590878,\n",
       "        0.53888418]),\n",
       " 'mean_train_score': array([0.50621015, 0.64399582, 0.66342931, 0.66822421, 0.57654922,\n",
       "        0.66953065, 0.65280362, 0.60792961, 0.59080007, 0.64914119,\n",
       "        0.60316268, 0.54847014, 0.5790418 , 0.62652982, 0.58469865,\n",
       "        0.52286811]),\n",
       " 'std_train_score': array([0.01941689, 0.0043594 , 0.00784544, 0.00392295, 0.01124815,\n",
       "        0.00233936, 0.0043502 , 0.00951664, 0.01641872, 0.00516872,\n",
       "        0.02894882, 0.0157505 , 0.0063673 , 0.01546511, 0.01315397,\n",
       "        0.01958318])}"
      ]
     },
     "execution_count": 28,
     "metadata": {},
     "output_type": "execute_result"
    }
   ],
   "source": [
    "print(gridsearch5.best_params_)\n",
    "gridsearch5.cv_results_"
   ]
  },
  {
   "cell_type": "markdown",
   "metadata": {},
   "source": [
    "## Note\n",
    "\n",
    "Note that this solution is only one of many options. The results in the Random Forest and Adaboost models show that there is a lot of improvement possible tuning the hyperparameters further, so make sure to explore this yourself!"
   ]
  },
  {
   "cell_type": "markdown",
   "metadata": {},
   "source": [
    "## Summary \n",
    "\n",
    "Great! You now got a lot of practice in. What algorithm would you choose and why?"
   ]
  }
 ],
 "metadata": {
  "kernelspec": {
   "display_name": "Python 3",
   "language": "python",
   "name": "python3"
  },
  "language_info": {
   "codemirror_mode": {
    "name": "ipython",
    "version": 3
   },
   "file_extension": ".py",
   "mimetype": "text/x-python",
   "name": "python",
   "nbconvert_exporter": "python",
   "pygments_lexer": "ipython3",
   "version": "3.7.0"
  }
 },
 "nbformat": 4,
 "nbformat_minor": 2
}
